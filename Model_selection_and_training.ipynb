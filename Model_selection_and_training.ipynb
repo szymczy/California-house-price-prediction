{
 "cells": [
  {
   "cell_type": "code",
   "execution_count": 1,
   "id": "0a39c800",
   "metadata": {},
   "outputs": [],
   "source": [
    "import numpy as np\n",
    "import pandas as pd\n",
    "import matplotlib.pyplot as plt\n",
    "import seaborn as sns\n",
    "%matplotlib inline"
   ]
  },
  {
   "cell_type": "code",
   "execution_count": 3,
   "id": "c0ff9b7e",
   "metadata": {},
   "outputs": [],
   "source": [
    "x_train_data = pd.read_csv('dataset/x_train.csv')\n",
    "y_train_data = pd.read_csv('dataset/y_train.csv')"
   ]
  },
  {
   "cell_type": "code",
   "execution_count": 13,
   "id": "ac6d323d",
   "metadata": {},
   "outputs": [],
   "source": [
    "x_test_data = pd.read_csv('dataset/x_test.csv')\n",
    "y_test_data = pd.read_csv('dataset/y_test.csv')"
   ]
  },
  {
   "cell_type": "markdown",
   "id": "35c92e7e",
   "metadata": {},
   "source": [
    "# Linear Regression"
   ]
  },
  {
   "cell_type": "code",
   "execution_count": 5,
   "id": "e4beb9c5",
   "metadata": {},
   "outputs": [],
   "source": [
    "from sklearn.linear_model import LinearRegression,Ridge"
   ]
  },
  {
   "cell_type": "code",
   "execution_count": 6,
   "id": "0686d143",
   "metadata": {},
   "outputs": [],
   "source": [
    "from sklearn.model_selection import learning_curve,cross_val_score,validation_curve"
   ]
  },
  {
   "cell_type": "code",
   "execution_count": 16,
   "id": "4a56746b",
   "metadata": {},
   "outputs": [],
   "source": [
    "from sklearn.metrics import mean_squared_error,r2_score"
   ]
  },
  {
   "cell_type": "code",
   "execution_count": 18,
   "id": "5e1cbfbc",
   "metadata": {},
   "outputs": [],
   "source": [
    "from math import sqrt"
   ]
  },
  {
   "cell_type": "code",
   "execution_count": 8,
   "id": "94000347",
   "metadata": {},
   "outputs": [
    {
     "data": {
      "text/plain": [
       "LinearRegression()"
      ]
     },
     "execution_count": 8,
     "metadata": {},
     "output_type": "execute_result"
    }
   ],
   "source": [
    "linreg = LinearRegression()\n",
    "linreg.fit(x_train_data, y_train_data)"
   ]
  },
  {
   "cell_type": "code",
   "execution_count": 9,
   "id": "15678627",
   "metadata": {},
   "outputs": [
    {
     "data": {
      "text/plain": [
       "LinearRegression(normalize=False)"
      ]
     },
     "execution_count": 9,
     "metadata": {},
     "output_type": "execute_result"
    }
   ],
   "source": [
    "LinearRegression(copy_X=True, fit_intercept=True, n_jobs=None, normalize=False)"
   ]
  },
  {
   "cell_type": "code",
   "execution_count": 11,
   "id": "214f8e17",
   "metadata": {},
   "outputs": [],
   "source": [
    "y_predict = linreg.predict(x_test_data)"
   ]
  },
  {
   "cell_type": "code",
   "execution_count": 20,
   "id": "113db53f",
   "metadata": {},
   "outputs": [
    {
     "name": "stdout",
     "output_type": "stream",
     "text": [
      "0.5874199592324111\n",
      "0.6460551884502899\n"
     ]
    }
   ],
   "source": [
    "print(sqrt(mean_squared_error(y_test_data,y_predict)))\n",
    "print((r2_score(y_test_data,y_predict)))\n"
   ]
  },
  {
   "cell_type": "markdown",
   "id": "37607e6c",
   "metadata": {},
   "source": [
    "WIth linear regression: \n",
    "R2 = 0.65\n",
    "RMSE = 58741.2 there's an average error of $58741.2 in prediction of house price"
   ]
  },
  {
   "cell_type": "code",
   "execution_count": null,
   "id": "f8a1c756",
   "metadata": {},
   "outputs": [],
   "source": []
  }
 ],
 "metadata": {
  "kernelspec": {
   "display_name": "Python 3 (ipykernel)",
   "language": "python",
   "name": "python3"
  },
  "language_info": {
   "codemirror_mode": {
    "name": "ipython",
    "version": 3
   },
   "file_extension": ".py",
   "mimetype": "text/x-python",
   "name": "python",
   "nbconvert_exporter": "python",
   "pygments_lexer": "ipython3",
   "version": "3.9.12"
  }
 },
 "nbformat": 4,
 "nbformat_minor": 5
}
